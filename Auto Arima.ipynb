{
 "cells": [
  {
   "cell_type": "code",
   "execution_count": 1,
   "id": "c0d05563",
   "metadata": {},
   "outputs": [
    {
     "name": "stdout",
     "output_type": "stream",
     "text": [
      "Collecting pmdarima\n",
      "  Using cached pmdarima-1.8.2-cp38-cp38-win_amd64.whl (596 kB)\n",
      "Requirement already satisfied: Cython!=0.29.18,>=0.29 in c:\\users\\sarth\\anaconda3\\lib\\site-packages (from pmdarima) (0.29.23)\n",
      "Requirement already satisfied: scikit-learn>=0.22 in c:\\users\\sarth\\anaconda3\\lib\\site-packages (from pmdarima) (0.24.1)\n",
      "Requirement already satisfied: scipy>=1.3.2 in c:\\users\\sarth\\anaconda3\\lib\\site-packages (from pmdarima) (1.6.2)\n",
      "Requirement already satisfied: pandas>=0.19 in c:\\users\\sarth\\anaconda3\\lib\\site-packages (from pmdarima) (1.2.4)\n",
      "Requirement already satisfied: statsmodels!=0.12.0,>=0.11 in c:\\users\\sarth\\anaconda3\\lib\\site-packages (from pmdarima) (0.12.2)\n",
      "Requirement already satisfied: numpy~=1.19.0 in c:\\users\\sarth\\anaconda3\\lib\\site-packages (from pmdarima) (1.19.5)\n",
      "Requirement already satisfied: setuptools!=50.0.0,>=38.6.0 in c:\\users\\sarth\\anaconda3\\lib\\site-packages (from pmdarima) (52.0.0.post20210125)\n",
      "Requirement already satisfied: joblib>=0.11 in c:\\users\\sarth\\anaconda3\\lib\\site-packages (from pmdarima) (1.0.1)\n",
      "Requirement already satisfied: urllib3 in c:\\users\\sarth\\anaconda3\\lib\\site-packages (from pmdarima) (1.26.4)\n",
      "Requirement already satisfied: pytz>=2017.3 in c:\\users\\sarth\\anaconda3\\lib\\site-packages (from pandas>=0.19->pmdarima) (2021.1)\n",
      "Requirement already satisfied: python-dateutil>=2.7.3 in c:\\users\\sarth\\anaconda3\\lib\\site-packages (from pandas>=0.19->pmdarima) (2.8.1)\n",
      "Requirement already satisfied: six>=1.5 in c:\\users\\sarth\\anaconda3\\lib\\site-packages (from python-dateutil>=2.7.3->pandas>=0.19->pmdarima) (1.15.0)\n",
      "Requirement already satisfied: threadpoolctl>=2.0.0 in c:\\users\\sarth\\anaconda3\\lib\\site-packages (from scikit-learn>=0.22->pmdarima) (2.1.0)\n",
      "Requirement already satisfied: patsy>=0.5 in c:\\users\\sarth\\anaconda3\\lib\\site-packages (from statsmodels!=0.12.0,>=0.11->pmdarima) (0.5.1)\n",
      "Installing collected packages: pmdarima\n",
      "Successfully installed pmdarima-1.8.2\n",
      "Note: you may need to restart the kernel to use updated packages.\n"
     ]
    }
   ],
   "source": [
    "pip install pmdarima"
   ]
  },
  {
   "cell_type": "code",
   "execution_count": 16,
   "id": "12165ede",
   "metadata": {},
   "outputs": [],
   "source": [
    "import pandas as pd\n",
    "import numpy as np\n",
    "import matplotlib.pyplot as plt\n",
    "import seaborn as sns"
   ]
  },
  {
   "cell_type": "code",
   "execution_count": 17,
   "id": "95bdd450",
   "metadata": {},
   "outputs": [
    {
     "data": {
      "text/html": [
       "<div>\n",
       "<style scoped>\n",
       "    .dataframe tbody tr th:only-of-type {\n",
       "        vertical-align: middle;\n",
       "    }\n",
       "\n",
       "    .dataframe tbody tr th {\n",
       "        vertical-align: top;\n",
       "    }\n",
       "\n",
       "    .dataframe thead th {\n",
       "        text-align: right;\n",
       "    }\n",
       "</style>\n",
       "<table border=\"1\" class=\"dataframe\">\n",
       "  <thead>\n",
       "    <tr style=\"text-align: right;\">\n",
       "      <th></th>\n",
       "      <th>MinTemp</th>\n",
       "      <th>MaxTemp</th>\n",
       "      <th>AvgTemp</th>\n",
       "      <th>Sunrise</th>\n",
       "      <th>Sunset</th>\n",
       "    </tr>\n",
       "    <tr>\n",
       "      <th>DATE</th>\n",
       "      <th></th>\n",
       "      <th></th>\n",
       "      <th></th>\n",
       "      <th></th>\n",
       "      <th></th>\n",
       "    </tr>\n",
       "  </thead>\n",
       "  <tbody>\n",
       "    <tr>\n",
       "      <th>2014-01-01</th>\n",
       "      <td>33.0</td>\n",
       "      <td>46.0</td>\n",
       "      <td>40.0</td>\n",
       "      <td>657</td>\n",
       "      <td>1756</td>\n",
       "    </tr>\n",
       "    <tr>\n",
       "      <th>2014-01-02</th>\n",
       "      <td>35.0</td>\n",
       "      <td>50.0</td>\n",
       "      <td>43.0</td>\n",
       "      <td>657</td>\n",
       "      <td>1756</td>\n",
       "    </tr>\n",
       "    <tr>\n",
       "      <th>2014-01-03</th>\n",
       "      <td>36.0</td>\n",
       "      <td>45.0</td>\n",
       "      <td>41.0</td>\n",
       "      <td>657</td>\n",
       "      <td>1757</td>\n",
       "    </tr>\n",
       "    <tr>\n",
       "      <th>2014-01-04</th>\n",
       "      <td>32.0</td>\n",
       "      <td>41.0</td>\n",
       "      <td>37.0</td>\n",
       "      <td>658</td>\n",
       "      <td>1757</td>\n",
       "    </tr>\n",
       "    <tr>\n",
       "      <th>2014-01-05</th>\n",
       "      <td>24.0</td>\n",
       "      <td>38.0</td>\n",
       "      <td>31.0</td>\n",
       "      <td>658</td>\n",
       "      <td>1758</td>\n",
       "    </tr>\n",
       "  </tbody>\n",
       "</table>\n",
       "</div>"
      ],
      "text/plain": [
       "            MinTemp  MaxTemp  AvgTemp  Sunrise  Sunset\n",
       "DATE                                                  \n",
       "2014-01-01     33.0     46.0     40.0      657    1756\n",
       "2014-01-02     35.0     50.0     43.0      657    1756\n",
       "2014-01-03     36.0     45.0     41.0      657    1757\n",
       "2014-01-04     32.0     41.0     37.0      658    1757\n",
       "2014-01-05     24.0     38.0     31.0      658    1758"
      ]
     },
     "execution_count": 17,
     "metadata": {},
     "output_type": "execute_result"
    }
   ],
   "source": [
    "df = pd.read_csv(\"../Downloads/DailyTemps.csv\", parse_dates=[\"DATE\"], index_col = \"DATE\")\n",
    "df.head()"
   ]
  },
  {
   "cell_type": "code",
   "execution_count": 18,
   "id": "fdefd920",
   "metadata": {},
   "outputs": [
    {
     "name": "stdout",
     "output_type": "stream",
     "text": [
      "<class 'pandas.core.frame.DataFrame'>\n",
      "DatetimeIndex: 1825 entries, 2014-01-01 to 2018-12-30\n",
      "Data columns (total 5 columns):\n",
      " #   Column   Non-Null Count  Dtype  \n",
      "---  ------   --------------  -----  \n",
      " 0   MinTemp  1821 non-null   float64\n",
      " 1   MaxTemp  1821 non-null   float64\n",
      " 2   AvgTemp  1821 non-null   float64\n",
      " 3   Sunrise  1825 non-null   int64  \n",
      " 4   Sunset   1825 non-null   int64  \n",
      "dtypes: float64(3), int64(2)\n",
      "memory usage: 85.5 KB\n"
     ]
    }
   ],
   "source": [
    "df.info()"
   ]
  },
  {
   "cell_type": "code",
   "execution_count": 19,
   "id": "d15408ce",
   "metadata": {},
   "outputs": [],
   "source": [
    "df = df.dropna()"
   ]
  },
  {
   "cell_type": "code",
   "execution_count": 20,
   "id": "3983b57e",
   "metadata": {},
   "outputs": [
    {
     "data": {
      "text/plain": [
       "MinTemp    0\n",
       "MaxTemp    0\n",
       "AvgTemp    0\n",
       "Sunrise    0\n",
       "Sunset     0\n",
       "dtype: int64"
      ]
     },
     "execution_count": 20,
     "metadata": {},
     "output_type": "execute_result"
    }
   ],
   "source": [
    "df.isna().sum()"
   ]
  },
  {
   "cell_type": "code",
   "execution_count": 21,
   "id": "38348821",
   "metadata": {},
   "outputs": [
    {
     "data": {
      "text/plain": [
       "(1821, 5)"
      ]
     },
     "execution_count": 21,
     "metadata": {},
     "output_type": "execute_result"
    }
   ],
   "source": [
    "df.shape"
   ]
  },
  {
   "cell_type": "code",
   "execution_count": 22,
   "id": "a1e3aa7c",
   "metadata": {},
   "outputs": [],
   "source": [
    "x = df[[\"AvgTemp\"]]"
   ]
  },
  {
   "cell_type": "code",
   "execution_count": 23,
   "id": "9205db03",
   "metadata": {},
   "outputs": [
    {
     "data": {
      "text/plain": [
       "<AxesSubplot:xlabel='DATE'>"
      ]
     },
     "execution_count": 23,
     "metadata": {},
     "output_type": "execute_result"
    },
    {
     "data": {
      "image/png": "[encoded data removed]",
      "text/plain": [
       "<Figure size 432x288 with 1 Axes>"
      ]
     },
     "metadata": {
      "needs_background": "light"
     },
     "output_type": "display_data"
    }
   ],
   "source": [
    "x.plot()"
   ]
  },
  {
   "cell_type": "code",
   "execution_count": 24,
   "id": "ad3c2df3",
   "metadata": {},
   "outputs": [
    {
     "name": "stdout",
     "output_type": "stream",
     "text": [
      "Stationary\n"
     ]
    }
   ],
   "source": [
    "from statsmodels.tsa.stattools import adfuller\n",
    "res = adfuller(x)\n",
    "p_val = res[1]\n",
    "if p_val>0.05:\n",
    "    print(\"Not Stationary\")\n",
    "else:\n",
    "    print(\"Stationary\")"
   ]
  },
  {
   "cell_type": "code",
   "execution_count": 25,
   "id": "b7c33d2f",
   "metadata": {},
   "outputs": [],
   "source": [
    "from pmdarima import auto_arima"
   ]
  },
  {
   "cell_type": "code",
   "execution_count": 26,
   "id": "70eb09a7",
   "metadata": {},
   "outputs": [
    {
     "name": "stdout",
     "output_type": "stream",
     "text": [
      "Performing stepwise search to minimize aic\n",
      " ARIMA(2,0,2)(0,0,0)[0] intercept   : AIC=8344.736, Time=2.18 sec\n",
      " ARIMA(0,0,0)(0,0,0)[0] intercept   : AIC=10347.755, Time=0.04 sec\n",
      " ARIMA(1,0,0)(0,0,0)[0] intercept   : AIC=8365.701, Time=0.18 sec\n",
      " ARIMA(0,0,1)(0,0,0)[0] intercept   : AIC=9136.225, Time=0.27 sec\n",
      " ARIMA(0,0,0)(0,0,0)[0]             : AIC=19192.139, Time=0.02 sec\n",
      " ARIMA(1,0,2)(0,0,0)[0] intercept   : AIC=8355.947, Time=1.76 sec\n",
      " ARIMA(2,0,1)(0,0,0)[0] intercept   : AIC=8356.308, Time=1.90 sec\n",
      " ARIMA(3,0,2)(0,0,0)[0] intercept   : AIC=8347.245, Time=2.50 sec\n",
      " ARIMA(2,0,3)(0,0,0)[0] intercept   : AIC=8318.352, Time=2.61 sec\n",
      " ARIMA(1,0,3)(0,0,0)[0] intercept   : AIC=8330.190, Time=2.41 sec\n",
      " ARIMA(3,0,3)(0,0,0)[0] intercept   : AIC=8310.601, Time=3.11 sec\n",
      " ARIMA(4,0,3)(0,0,0)[0] intercept   : AIC=8332.205, Time=3.57 sec\n",
      " ARIMA(3,0,4)(0,0,0)[0] intercept   : AIC=8317.533, Time=3.62 sec\n",
      " ARIMA(2,0,4)(0,0,0)[0] intercept   : AIC=8305.366, Time=3.30 sec\n",
      " ARIMA(1,0,4)(0,0,0)[0] intercept   : AIC=8297.043, Time=2.81 sec\n",
      " ARIMA(0,0,4)(0,0,0)[0] intercept   : AIC=8455.435, Time=0.91 sec\n",
      " ARIMA(1,0,5)(0,0,0)[0] intercept   : AIC=8294.871, Time=3.32 sec\n",
      " ARIMA(0,0,5)(0,0,0)[0] intercept   : AIC=8419.091, Time=0.92 sec\n",
      " ARIMA(2,0,5)(0,0,0)[0] intercept   : AIC=8302.405, Time=3.59 sec\n",
      " ARIMA(1,0,5)(0,0,0)[0]             : AIC=8304.533, Time=0.41 sec\n",
      "\n",
      "Best model:  ARIMA(1,0,5)(0,0,0)[0] intercept\n",
      "Total fit time: 39.457 seconds\n"
     ]
    }
   ],
   "source": [
    "auto_arima = auto_arima(x, trace = True)"
   ]
  },
  {
   "cell_type": "code",
   "execution_count": 28,
   "id": "1859661b",
   "metadata": {},
   "outputs": [],
   "source": [
    "train_len = int(len(x)*0.8)"
   ]
  },
  {
   "cell_type": "code",
   "execution_count": 30,
   "id": "9b9cca87",
   "metadata": {},
   "outputs": [
    {
     "name": "stdout",
     "output_type": "stream",
     "text": [
      "(1456, 1)\n",
      "(365, 1)\n"
     ]
    }
   ],
   "source": [
    "train = x.iloc[:train_len]\n",
    "test = x.iloc[train_len:]\n",
    "print(train.shape)\n",
    "print(test.shape)"
   ]
  },
  {
   "cell_type": "code",
   "execution_count": 43,
   "id": "e791329f",
   "metadata": {},
   "outputs": [
    {
     "name": "stderr",
     "output_type": "stream",
     "text": [
      "C:\\Users\\sarth\\anaconda3\\lib\\site-packages\\statsmodels\\tsa\\arima_model.py:472: FutureWarning: \n",
      "statsmodels.tsa.arima_model.ARMA and statsmodels.tsa.arima_model.ARIMA have\n",
      "been deprecated in favor of statsmodels.tsa.arima.model.ARIMA (note the .\n",
      "between arima and model) and\n",
      "statsmodels.tsa.SARIMAX. These will be removed after the 0.12 release.\n",
      "\n",
      "statsmodels.tsa.arima.model.ARIMA makes use of the statespace framework and\n",
      "is both well tested and maintained.\n",
      "\n",
      "To silence this warning and continue using ARMA and ARIMA until they are\n",
      "removed, use:\n",
      "\n",
      "import warnings\n",
      "warnings.filterwarnings('ignore', 'statsmodels.tsa.arima_model.ARMA',\n",
      "                        FutureWarning)\n",
      "warnings.filterwarnings('ignore', 'statsmodels.tsa.arima_model.ARIMA',\n",
      "                        FutureWarning)\n",
      "\n",
      "  warnings.warn(ARIMA_DEPRECATION_WARN, FutureWarning)\n",
      "C:\\Users\\sarth\\anaconda3\\lib\\site-packages\\statsmodels\\tsa\\base\\tsa_model.py:581: ValueWarning: A date index has been provided, but it has no associated frequency information and so will be ignored when e.g. forecasting.\n",
      "  warnings.warn('A date index has been provided, but it has no'\n"
     ]
    },
    {
     "data": {
      "text/html": [
       "<table class=\"simpletable\">\n",
       "<caption>ARMA Model Results</caption>\n",
       "<tr>\n",
       "  <th>Dep. Variable:</th>      <td>AvgTemp</td>     <th>  No. Observations:  </th>   <td>1456</td>   \n",
       "</tr>\n",
       "<tr>\n",
       "  <th>Model:</th>            <td>ARMA(1, 5)</td>    <th>  Log Likelihood     </th> <td>-3334.671</td>\n",
       "</tr>\n",
       "<tr>\n",
       "  <th>Method:</th>             <td>css-mle</td>     <th>  S.D. of innovations</th>   <td>2.389</td>  \n",
       "</tr>\n",
       "<tr>\n",
       "  <th>Date:</th>          <td>Fri, 02 Jul 2021</td> <th>  AIC                </th> <td>6685.343</td> \n",
       "</tr>\n",
       "<tr>\n",
       "  <th>Time:</th>              <td>15:16:56</td>     <th>  BIC                </th> <td>6727.610</td> \n",
       "</tr>\n",
       "<tr>\n",
       "  <th>Sample:</th>                <td>0</td>        <th>  HQIC               </th> <td>6701.113</td> \n",
       "</tr>\n",
       "<tr>\n",
       "  <th></th>                       <td> </td>        <th>                     </th>     <td> </td>    \n",
       "</tr>\n",
       "</table>\n",
       "<table class=\"simpletable\">\n",
       "<tr>\n",
       "        <td></td>           <th>coef</th>     <th>std err</th>      <th>z</th>      <th>P>|z|</th>  <th>[0.025</th>    <th>0.975]</th>  \n",
       "</tr>\n",
       "<tr>\n",
       "  <th>const</th>         <td>   46.5293</td> <td>    0.860</td> <td>   54.100</td> <td> 0.000</td> <td>   44.844</td> <td>   48.215</td>\n",
       "</tr>\n",
       "<tr>\n",
       "  <th>ar.L1.AvgTemp</th> <td>    0.9844</td> <td>    0.009</td> <td>  112.837</td> <td> 0.000</td> <td>    0.967</td> <td>    1.002</td>\n",
       "</tr>\n",
       "<tr>\n",
       "  <th>ma.L1.AvgTemp</th> <td>   -0.1312</td> <td>    0.028</td> <td>   -4.704</td> <td> 0.000</td> <td>   -0.186</td> <td>   -0.077</td>\n",
       "</tr>\n",
       "<tr>\n",
       "  <th>ma.L2.AvgTemp</th> <td>   -0.2444</td> <td>    0.028</td> <td>   -8.853</td> <td> 0.000</td> <td>   -0.299</td> <td>   -0.190</td>\n",
       "</tr>\n",
       "<tr>\n",
       "  <th>ma.L3.AvgTemp</th> <td>   -0.2051</td> <td>    0.029</td> <td>   -7.029</td> <td> 0.000</td> <td>   -0.262</td> <td>   -0.148</td>\n",
       "</tr>\n",
       "<tr>\n",
       "  <th>ma.L4.AvgTemp</th> <td>   -0.1476</td> <td>    0.027</td> <td>   -5.486</td> <td> 0.000</td> <td>   -0.200</td> <td>   -0.095</td>\n",
       "</tr>\n",
       "<tr>\n",
       "  <th>ma.L5.AvgTemp</th> <td>   -0.0584</td> <td>    0.028</td> <td>   -2.082</td> <td> 0.037</td> <td>   -0.113</td> <td>   -0.003</td>\n",
       "</tr>\n",
       "</table>\n",
       "<table class=\"simpletable\">\n",
       "<caption>Roots</caption>\n",
       "<tr>\n",
       "    <td></td>   <th>            Real</th>  <th>         Imaginary</th> <th>         Modulus</th>  <th>        Frequency</th>\n",
       "</tr>\n",
       "<tr>\n",
       "  <th>AR.1</th> <td>           1.0158</td> <td>          +0.0000j</td> <td>           1.0158</td> <td>           0.0000</td>\n",
       "</tr>\n",
       "<tr>\n",
       "  <th>MA.1</th> <td>           1.0910</td> <td>          -0.0000j</td> <td>           1.0910</td> <td>          -0.0000</td>\n",
       "</tr>\n",
       "<tr>\n",
       "  <th>MA.2</th> <td>           0.0718</td> <td>          -1.8558j</td> <td>           1.8572</td> <td>          -0.2438</td>\n",
       "</tr>\n",
       "<tr>\n",
       "  <th>MA.3</th> <td>           0.0718</td> <td>          +1.8558j</td> <td>           1.8572</td> <td>           0.2438</td>\n",
       "</tr>\n",
       "<tr>\n",
       "  <th>MA.4</th> <td>          -1.8803</td> <td>          -1.0060j</td> <td>           2.1324</td> <td>          -0.4218</td>\n",
       "</tr>\n",
       "<tr>\n",
       "  <th>MA.5</th> <td>          -1.8803</td> <td>          +1.0060j</td> <td>           2.1324</td> <td>           0.4218</td>\n",
       "</tr>\n",
       "</table>"
      ],
      "text/plain": [
       "<class 'statsmodels.iolib.summary.Summary'>\n",
       "\"\"\"\n",
       "                              ARMA Model Results                              \n",
       "==============================================================================\n",
       "Dep. Variable:                AvgTemp   No. Observations:                 1456\n",
       "Model:                     ARMA(1, 5)   Log Likelihood               -3334.671\n",
       "Method:                       css-mle   S.D. of innovations              2.389\n",
       "Date:                Fri, 02 Jul 2021   AIC                           6685.343\n",
       "Time:                        15:16:56   BIC                           6727.610\n",
       "Sample:                             0   HQIC                          6701.113\n",
       "                                                                              \n",
       "=================================================================================\n",
       "                    coef    std err          z      P>|z|      [0.025      0.975]\n",
       "---------------------------------------------------------------------------------\n",
       "const            46.5293      0.860     54.100      0.000      44.844      48.215\n",
       "ar.L1.AvgTemp     0.9844      0.009    112.837      0.000       0.967       1.002\n",
       "ma.L1.AvgTemp    -0.1312      0.028     -4.704      0.000      -0.186      -0.077\n",
       "ma.L2.AvgTemp    -0.2444      0.028     -8.853      0.000      -0.299      -0.190\n",
       "ma.L3.AvgTemp    -0.2051      0.029     -7.029      0.000      -0.262      -0.148\n",
       "ma.L4.AvgTemp    -0.1476      0.027     -5.486      0.000      -0.200      -0.095\n",
       "ma.L5.AvgTemp    -0.0584      0.028     -2.082      0.037      -0.113      -0.003\n",
       "                                    Roots                                    \n",
       "=============================================================================\n",
       "                  Real          Imaginary           Modulus         Frequency\n",
       "-----------------------------------------------------------------------------\n",
       "AR.1            1.0158           +0.0000j            1.0158            0.0000\n",
       "MA.1            1.0910           -0.0000j            1.0910           -0.0000\n",
       "MA.2            0.0718           -1.8558j            1.8572           -0.2438\n",
       "MA.3            0.0718           +1.8558j            1.8572            0.2438\n",
       "MA.4           -1.8803           -1.0060j            2.1324           -0.4218\n",
       "MA.5           -1.8803           +1.0060j            2.1324            0.4218\n",
       "-----------------------------------------------------------------------------\n",
       "\"\"\""
      ]
     },
     "execution_count": 43,
     "metadata": {},
     "output_type": "execute_result"
    }
   ],
   "source": [
    "from statsmodels.tsa.arima_model import ARIMA \n",
    "model = ARIMA(train, order = (1, 0, 5))\n",
    "model_fit = model.fit()\n",
    "model_fit.summary()"
   ]
  },
  {
   "cell_type": "code",
   "execution_count": 44,
   "id": "75bd9919",
   "metadata": {},
   "outputs": [
    {
     "data": {
      "text/plain": [
       "<matplotlib.legend.Legend at 0x283c2f8a3d0>"
      ]
     },
     "execution_count": 44,
     "metadata": {},
     "output_type": "execute_result"
    },
    {
     "data": {
      "image/png": "[encoded data removed]",
      "text/plain": [
       "<Figure size 432x288 with 1 Axes>"
      ]
     },
     "metadata": {
      "needs_background": "light"
     },
     "output_type": "display_data"
    }
   ],
   "source": [
    "plt.plot(train, label = \"Train\")\n",
    "plt.plot(test, label = \"Test\")\n",
    "plt.legend()"
   ]
  },
  {
   "cell_type": "code",
   "execution_count": 45,
   "id": "81f73b49",
   "metadata": {},
   "outputs": [
    {
     "name": "stdout",
     "output_type": "stream",
     "text": [
      "1456 1820\n"
     ]
    }
   ],
   "source": [
    "start = len(train)\n",
    "end = len(train)+len(test)-1 #OR end = len(x)-1\n",
    "print(start, end)"
   ]
  },
  {
   "cell_type": "code",
   "execution_count": 46,
   "id": "4e3a45e7",
   "metadata": {},
   "outputs": [
    {
     "name": "stderr",
     "output_type": "stream",
     "text": [
      "C:\\Users\\sarth\\anaconda3\\lib\\site-packages\\statsmodels\\tsa\\base\\tsa_model.py:376: ValueWarning: No supported index is available. Prediction results will be given with an integer index beginning at `start`.\n",
      "  warnings.warn('No supported index is available.'\n"
     ]
    }
   ],
   "source": [
    "ypred_test = model_fit.predict(start = start, end = end)"
   ]
  },
  {
   "cell_type": "code",
   "execution_count": 47,
   "id": "069d4bb4",
   "metadata": {},
   "outputs": [
    {
     "data": {
      "text/plain": [
       "1456    42.929228\n",
       "1457    42.907439\n",
       "1458    43.061198\n",
       "1459    43.165965\n",
       "1460    43.203574\n",
       "          ...    \n",
       "1816    46.516743\n",
       "1817    46.516937\n",
       "1818    46.517129\n",
       "1819    46.517318\n",
       "1820    46.517504\n",
       "Length: 365, dtype: float64"
      ]
     },
     "execution_count": 47,
     "metadata": {},
     "output_type": "execute_result"
    }
   ],
   "source": [
    "ypred_test"
   ]
  },
  {
   "cell_type": "code",
   "execution_count": 51,
   "id": "c2aaec6e",
   "metadata": {},
   "outputs": [
    {
     "name": "stderr",
     "output_type": "stream",
     "text": [
      "C:\\Users\\sarth\\anaconda3\\lib\\site-packages\\statsmodels\\tsa\\base\\tsa_model.py:376: ValueWarning: No supported index is available. Prediction results will be given with an integer index beginning at `start`.\n",
      "  warnings.warn('No supported index is available.'\n"
     ]
    }
   ],
   "source": [
    "yprd_test = model_fit.predict(start=start, end=end)"
   ]
  },
  {
   "cell_type": "code",
   "execution_count": 52,
   "id": "e6213dc2",
   "metadata": {},
   "outputs": [
    {
     "data": {
      "text/plain": [
       "1456    42.929228\n",
       "1457    42.907439\n",
       "1458    43.061198\n",
       "1459    43.165965\n",
       "1460    43.203574\n",
       "          ...    \n",
       "1816    46.516743\n",
       "1817    46.516937\n",
       "1818    46.517129\n",
       "1819    46.517318\n",
       "1820    46.517504\n",
       "Length: 365, dtype: float64"
      ]
     },
     "execution_count": 52,
     "metadata": {},
     "output_type": "execute_result"
    }
   ],
   "source": [
    "ypred_test"
   ]
  },
  {
   "cell_type": "code",
   "execution_count": 48,
   "id": "cd0342f7",
   "metadata": {},
   "outputs": [],
   "source": [
    "date_pred = pd.date_range(start = \"2017-12-30\", end = \"2018-12-29\")"
   ]
  },
  {
   "cell_type": "code",
   "execution_count": 49,
   "id": "b9b3ede4",
   "metadata": {},
   "outputs": [
    {
     "data": {
      "text/plain": [
       "DatetimeIndex(['2017-12-30', '2017-12-31', '2018-01-01', '2018-01-02',\n",
       "               '2018-01-03', '2018-01-04', '2018-01-05', '2018-01-06',\n",
       "               '2018-01-07', '2018-01-08',\n",
       "               ...\n",
       "               '2018-12-20', '2018-12-21', '2018-12-22', '2018-12-23',\n",
       "               '2018-12-24', '2018-12-25', '2018-12-26', '2018-12-27',\n",
       "               '2018-12-28', '2018-12-29'],\n",
       "              dtype='datetime64[ns]', length=365, freq='D')"
      ]
     },
     "execution_count": 49,
     "metadata": {},
     "output_type": "execute_result"
    }
   ],
   "source": [
    "date_pred"
   ]
  },
  {
   "cell_type": "code",
   "execution_count": 53,
   "id": "dd620bce",
   "metadata": {},
   "outputs": [],
   "source": [
    "ypred_test.index = date_pred"
   ]
  },
  {
   "cell_type": "code",
   "execution_count": 54,
   "id": "975fdaa7",
   "metadata": {},
   "outputs": [
    {
     "data": {
      "text/plain": [
       "2017-12-30    42.929228\n",
       "2017-12-31    42.907439\n",
       "2018-01-01    43.061198\n",
       "2018-01-02    43.165965\n",
       "2018-01-03    43.203574\n",
       "                ...    \n",
       "2018-12-25    46.516743\n",
       "2018-12-26    46.516937\n",
       "2018-12-27    46.517129\n",
       "2018-12-28    46.517318\n",
       "2018-12-29    46.517504\n",
       "Freq: D, Length: 365, dtype: float64"
      ]
     },
     "execution_count": 54,
     "metadata": {},
     "output_type": "execute_result"
    }
   ],
   "source": [
    "ypred_test"
   ]
  },
  {
   "cell_type": "code",
   "execution_count": 55,
   "id": "c032cb2a",
   "metadata": {},
   "outputs": [
    {
     "data": {
      "text/plain": [
       "[<matplotlib.lines.Line2D at 0x283c40b2f40>]"
      ]
     },
     "execution_count": 55,
     "metadata": {},
     "output_type": "execute_result"
    },
    {
     "data": {
      "image/png": "[encoded data removed]",
      "text/plain": [
       "<Figure size 432x288 with 1 Axes>"
      ]
     },
     "metadata": {
      "needs_background": "light"
     },
     "output_type": "display_data"
    }
   ],
   "source": [
    "plt.plot(test)\n",
    "plt.plot(ypred_test)"
   ]
  },
  {
   "cell_type": "code",
   "execution_count": 41,
   "id": "a107ef13",
   "metadata": {},
   "outputs": [
    {
     "data": {
      "text/plain": [
       "[<matplotlib.lines.Line2D at 0x283c2ff2460>]"
      ]
     },
     "execution_count": 41,
     "metadata": {},
     "output_type": "execute_result"
    },
    {
     "data": {
      "image/png": "[encoded data removed]",
      "text/plain": [
       "<Figure size 432x288 with 1 Axes>"
      ]
     },
     "metadata": {
      "needs_background": "light"
     },
     "output_type": "display_data"
    }
   ],
   "source": [
    "plt.plot(test)\n"
   ]
  },
  {
   "cell_type": "code",
   "execution_count": 56,
   "id": "833dec93",
   "metadata": {},
   "outputs": [
    {
     "name": "stdout",
     "output_type": "stream",
     "text": [
      "MSE is:  14.341794320453502\n",
      "RMSE is 3.7870561549115562\n",
      "MAE is 3.046680446016533\n"
     ]
    }
   ],
   "source": [
    "from sklearn.metrics import mean_squared_error, mean_absolute_error\n",
    "mse = mean_squared_error(test, ypred_test)\n",
    "mae = mean_absolute_error(test, ypred_test)\n",
    "print(\"MSE is: \", mse)\n",
    "print(\"RMSE is\", np.sqrt(mse))\n",
    "print(\"MAE is\", mae)"
   ]
  },
  {
   "cell_type": "code",
   "execution_count": null,
   "id": "6e50f636",
   "metadata": {},
   "outputs": [],
   "source": []
  }
 ],
 "metadata": {
  "kernelspec": {
   "display_name": "Python 3",
   "language": "python",
   "name": "python3"
  },
  "language_info": {
   "codemirror_mode": {
    "name": "ipython",
    "version": 3
   },
   "file_extension": ".py",
   "mimetype": "text/x-python",
   "name": "python",
   "nbconvert_exporter": "python",
   "pygments_lexer": "ipython3",
   "version": "3.8.8"
  }
 },
 "nbformat": 4,
 "nbformat_minor": 5
}
